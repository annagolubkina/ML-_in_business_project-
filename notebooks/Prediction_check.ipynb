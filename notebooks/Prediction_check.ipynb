{
 "cells": [
  {
   "cell_type": "markdown",
   "id": "35195200",
   "metadata": {},
   "source": [
    "### Проверка работы модели на тестовых данных"
   ]
  },
  {
   "cell_type": "code",
   "execution_count": 1,
   "id": "4c141003",
   "metadata": {},
   "outputs": [],
   "source": [
    "import pandas as pd\n",
    "import numpy as np\n",
    "from sklearn.metrics import roc_auc_score, classification_report\n",
    "import dill\n",
    "dill._dill._reverse_typemap['ClassType'] = type"
   ]
  },
  {
   "cell_type": "code",
   "execution_count": 2,
   "id": "41a2dd11",
   "metadata": {},
   "outputs": [
    {
     "data": {
      "text/html": [
       "<div>\n",
       "<style scoped>\n",
       "    .dataframe tbody tr th:only-of-type {\n",
       "        vertical-align: middle;\n",
       "    }\n",
       "\n",
       "    .dataframe tbody tr th {\n",
       "        vertical-align: top;\n",
       "    }\n",
       "\n",
       "    .dataframe thead th {\n",
       "        text-align: right;\n",
       "    }\n",
       "</style>\n",
       "<table border=\"1\" class=\"dataframe\">\n",
       "  <thead>\n",
       "    <tr style=\"text-align: right;\">\n",
       "      <th></th>\n",
       "      <th>id</th>\n",
       "      <th>Gender</th>\n",
       "      <th>Customer Type</th>\n",
       "      <th>Age</th>\n",
       "      <th>Type of Travel</th>\n",
       "      <th>Class</th>\n",
       "      <th>Flight Distance</th>\n",
       "      <th>Inflight wifi service</th>\n",
       "      <th>Departure/Arrival time convenient</th>\n",
       "      <th>Ease of Online booking</th>\n",
       "      <th>...</th>\n",
       "      <th>Inflight entertainment</th>\n",
       "      <th>On-board service</th>\n",
       "      <th>Leg room service</th>\n",
       "      <th>Baggage handling</th>\n",
       "      <th>Checkin service</th>\n",
       "      <th>Inflight service</th>\n",
       "      <th>Cleanliness</th>\n",
       "      <th>Departure Delay in Minutes</th>\n",
       "      <th>Arrival Delay in Minutes</th>\n",
       "      <th>satisfaction</th>\n",
       "    </tr>\n",
       "  </thead>\n",
       "  <tbody>\n",
       "    <tr>\n",
       "      <th>0</th>\n",
       "      <td>19556</td>\n",
       "      <td>Female</td>\n",
       "      <td>Loyal Customer</td>\n",
       "      <td>52</td>\n",
       "      <td>Business travel</td>\n",
       "      <td>Eco</td>\n",
       "      <td>160</td>\n",
       "      <td>5</td>\n",
       "      <td>4</td>\n",
       "      <td>3</td>\n",
       "      <td>...</td>\n",
       "      <td>5</td>\n",
       "      <td>5</td>\n",
       "      <td>5</td>\n",
       "      <td>5</td>\n",
       "      <td>2</td>\n",
       "      <td>5</td>\n",
       "      <td>5</td>\n",
       "      <td>50</td>\n",
       "      <td>44.0</td>\n",
       "      <td>satisfied</td>\n",
       "    </tr>\n",
       "    <tr>\n",
       "      <th>1</th>\n",
       "      <td>90035</td>\n",
       "      <td>Female</td>\n",
       "      <td>Loyal Customer</td>\n",
       "      <td>36</td>\n",
       "      <td>Business travel</td>\n",
       "      <td>Business</td>\n",
       "      <td>2863</td>\n",
       "      <td>1</td>\n",
       "      <td>1</td>\n",
       "      <td>3</td>\n",
       "      <td>...</td>\n",
       "      <td>4</td>\n",
       "      <td>4</td>\n",
       "      <td>4</td>\n",
       "      <td>4</td>\n",
       "      <td>3</td>\n",
       "      <td>4</td>\n",
       "      <td>5</td>\n",
       "      <td>0</td>\n",
       "      <td>0.0</td>\n",
       "      <td>satisfied</td>\n",
       "    </tr>\n",
       "  </tbody>\n",
       "</table>\n",
       "<p>2 rows × 24 columns</p>\n",
       "</div>"
      ],
      "text/plain": [
       "      id  Gender   Customer Type  Age   Type of Travel     Class  \\\n",
       "0  19556  Female  Loyal Customer   52  Business travel       Eco   \n",
       "1  90035  Female  Loyal Customer   36  Business travel  Business   \n",
       "\n",
       "   Flight Distance  Inflight wifi service  Departure/Arrival time convenient  \\\n",
       "0              160                      5                                  4   \n",
       "1             2863                      1                                  1   \n",
       "\n",
       "   Ease of Online booking  ...  Inflight entertainment  On-board service  \\\n",
       "0                       3  ...                       5                 5   \n",
       "1                       3  ...                       4                 4   \n",
       "\n",
       "   Leg room service  Baggage handling  Checkin service  Inflight service  \\\n",
       "0                 5                 5                2                 5   \n",
       "1                 4                 4                3                 4   \n",
       "\n",
       "   Cleanliness  Departure Delay in Minutes  Arrival Delay in Minutes  \\\n",
       "0            5                          50                      44.0   \n",
       "1            5                           0                       0.0   \n",
       "\n",
       "   satisfaction  \n",
       "0     satisfied  \n",
       "1     satisfied  \n",
       "\n",
       "[2 rows x 24 columns]"
      ]
     },
     "execution_count": 2,
     "metadata": {},
     "output_type": "execute_result"
    }
   ],
   "source": [
    "TEST_DATASET_PATH = '/Users/annasmejoukha/Desktop/ML_Business/project/datasets/test.csv'\n",
    "test_df = pd.read_csv(TEST_DATASET_PATH, index_col=0)\n",
    "test_df.head(2)"
   ]
  },
  {
   "cell_type": "code",
   "execution_count": 3,
   "id": "c3e87e05",
   "metadata": {},
   "outputs": [
    {
     "data": {
      "text/plain": [
       "(25976, 24)"
      ]
     },
     "execution_count": 3,
     "metadata": {},
     "output_type": "execute_result"
    }
   ],
   "source": [
    "test_df.shape"
   ]
  },
  {
   "cell_type": "markdown",
   "id": "0b469bfe",
   "metadata": {},
   "source": [
    "Проверка модели на тестовых данных\n",
    "Разбиваем датасет на X и y"
   ]
  },
  {
   "cell_type": "code",
   "execution_count": 4,
   "id": "6df3256f",
   "metadata": {},
   "outputs": [],
   "source": [
    "X = test_df.drop('satisfaction', axis=1)\n",
    "y = pd.DataFrame({'satisfaction': test_df['satisfaction']})"
   ]
  },
  {
   "cell_type": "markdown",
   "id": "d6ef9504",
   "metadata": {},
   "source": [
    "Заменяем значения целевого признака на 1 и 0 для последущего расчета метрик качества модели"
   ]
  },
  {
   "cell_type": "code",
   "execution_count": 5,
   "id": "2b2dc9ff",
   "metadata": {},
   "outputs": [],
   "source": [
    "y.satisfaction = np.where(y.satisfaction == 'satisfied', 1, 0)"
   ]
  },
  {
   "cell_type": "markdown",
   "id": "fc72ab55",
   "metadata": {},
   "source": [
    "Загрузим модель из файла и делаем предсказания"
   ]
  },
  {
   "cell_type": "code",
   "execution_count": 6,
   "id": "8942c0dc",
   "metadata": {},
   "outputs": [],
   "source": [
    "with open('/Users/annasmejoukha/Desktop/ML_Business/project/models/xgbclf_pipeline.dill', 'rb') as in_strm:\n",
    "    pipeline = dill.load(in_strm)"
   ]
  },
  {
   "cell_type": "code",
   "execution_count": 7,
   "id": "04907719",
   "metadata": {},
   "outputs": [],
   "source": [
    "predictions = pipeline.predict(X)\n",
    "pd.DataFrame({'preds': predictions}).to_csv(\"/Users/annasmejoukha/Desktop/ML_Business/project/datasets/test_predictions.csv\", index=None)"
   ]
  },
  {
   "cell_type": "code",
   "execution_count": 8,
   "id": "64b5712e",
   "metadata": {},
   "outputs": [],
   "source": [
    "binary_preds = np.where(predictions == 'satisfied', 1, 0)"
   ]
  },
  {
   "cell_type": "code",
   "execution_count": 9,
   "id": "a7d721dc",
   "metadata": {},
   "outputs": [
    {
     "name": "stdout",
     "output_type": "stream",
     "text": [
      "ROC AUC score: 0.961491592533332\n"
     ]
    }
   ],
   "source": [
    "print(f'ROC AUC score: {roc_auc_score(y, binary_preds)}')"
   ]
  },
  {
   "cell_type": "code",
   "execution_count": 10,
   "id": "5816112d",
   "metadata": {},
   "outputs": [
    {
     "name": "stdout",
     "output_type": "stream",
     "text": [
      "Classification report:\n",
      "              precision    recall  f1-score   support\n",
      "\n",
      "           0       0.96      0.98      0.97     14573\n",
      "           1       0.97      0.94      0.96     11403\n",
      "\n",
      "    accuracy                           0.96     25976\n",
      "   macro avg       0.97      0.96      0.96     25976\n",
      "weighted avg       0.96      0.96      0.96     25976\n",
      "\n"
     ]
    }
   ],
   "source": [
    "print(f'Classification report:\\n{classification_report(y, binary_preds)}')"
   ]
  }
 ],
 "metadata": {
  "kernelspec": {
   "display_name": "Python 3",
   "language": "python",
   "name": "python3"
  },
  "language_info": {
   "codemirror_mode": {
    "name": "ipython",
    "version": 3
   },
   "file_extension": ".py",
   "mimetype": "text/x-python",
   "name": "python",
   "nbconvert_exporter": "python",
   "pygments_lexer": "ipython3",
   "version": "3.8.8"
  }
 },
 "nbformat": 4,
 "nbformat_minor": 5
}
